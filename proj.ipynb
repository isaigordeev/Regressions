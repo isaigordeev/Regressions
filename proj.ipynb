{
 "cells": [
  {
   "attachments": {},
   "cell_type": "markdown",
   "id": "1e4d2968",
   "metadata": {},
   "source": [
    "# Régression linéaire "
   ]
  },
  {
   "attachments": {},
   "cell_type": "markdown",
   "id": "87c631b6",
   "metadata": {},
   "source": [
    "## S1"
   ]
  },
  {
   "cell_type": "code",
   "execution_count": 5,
   "id": "054fabfb",
   "metadata": {},
   "outputs": [],
   "source": [
    "import random\n",
    "import numpy as np\n",
    "import matplotlib.pyplot as plt\n",
    "\n",
    "def generator_noisy_line(parameters:tuple, n, sigma):\n",
    "    x = [random.uniform(0,1) for x in range(n)]\n",
    "    x = np.array(x)\n",
    "    \n",
    "    eps = [random.gauss(0,sigma) for x in range(n)]\n",
    "    eps = np.array(eps)\n",
    "    \n",
    "    return x, parameters[0] + parameters[1]*x + eps, eps"
   ]
  },
  {
   "cell_type": "code",
   "execution_count": 6,
   "id": "a70e5b01",
   "metadata": {},
   "outputs": [
    {
     "data": {
      "text/plain": [
       "[<matplotlib.lines.Line2D at 0x11702eef0>]"
      ]
     },
     "execution_count": 6,
     "metadata": {},
     "output_type": "execute_result"
    },
    {
     "data": {
      "image/png": "[encoded data removed]",
      "text/plain": [
       "<Figure size 640x480 with 1 Axes>"
      ]
     },
     "metadata": {},
     "output_type": "display_data"
    }
   ],
   "source": [
    "dataset = generator_noisy_line((2,1), 100, 0.1)\n",
    "plt.plot(dataset[0], dataset[1], 'x')"
   ]
  },
  {
   "attachments": {},
   "cell_type": "markdown",
   "id": "495c0366",
   "metadata": {},
   "source": [
    "## T1\n",
    "\n",
    "Le modèle linéare\n",
    "$$ y_i = \\beta_0 + \\beta_1x_i+\\varepsilon_i $$\n",
    "\n",
    "Comme $\\varepsilon_i$ est une variable aléatoire gaussienne, on peut l'exprimer avec la vecteur $y$ et la vecteur fixe $x_i$\n",
    "\n",
    "\n",
    "$$ \\varepsilon_i = y_i - \\left(\\beta_0 + \\beta_1x_i\\right)$$\n",
    "\n",
    "D'où\n",
    "\n",
    "$$ [ y_i - \\left(\\beta_0 + \\beta_1x_i\\right) ] \\sim N(0, \\sigma) $$ \n",
    "\n",
    "La vecteur gaussienne \n",
    "\n",
    "$$ (\\textbf y - X\\beta) \\sim (N(0, \\sigma), \\dots,N(0, \\sigma))  $$\n",
    "\n",
    "$$ p(y) = (2\\pi\\sigma^2)^{-n/2}\\displaystyle\\exp\\left(-\\frac{\\sum_i(\\textbf y - X\\beta)_i^2}{2\\sigma^2}\\right)$$\n",
    "\n",
    "\n",
    "$$ p(y) = (2\\pi\\sigma^2)^{-n/2}\\displaystyle\\exp\\left(-\\frac{||\\textbf y - X\\beta||^2}{2\\sigma^2}\\right)$$"
   ]
  },
  {
   "attachments": {},
   "cell_type": "markdown",
   "id": "7bbc7f1a",
   "metadata": {},
   "source": [
    "## T2\n",
    "\n",
    "L'estimateur du maximum de vraisemblance\n",
    "\n",
    "$$ \\hat\\beta \\in \\arg \\min_{\\beta\\in\\mathbb{R}^2}||y - X\\beta||^2 $$\n",
    "\n",
    "Cet estimateur minimise l'erreur quadratique moyenne\n",
    " $\\text{EQM} (y, X, \\beta) = \\frac 1 n||y - X\\beta||^2 $– un des estimateur le plus populaires. \n",
    "\n",
    "Pour minimiser \n",
    "$$ \\nabla_{\\beta} \\text{EQM}(y, X, \\beta) = 0$$\n",
    "$$ \\nabla_{\\beta} ||y - X\\beta||^2 = 0 $$\n",
    "$$ \\nabla_{\\beta} \\left(y - X\\beta\\right)^{\\text T} (y - X\\beta)= 0 $$\n",
    "\n",
    "$$ \\nabla_{\\beta} \\left(y^{\\text T}y - 2y^{\\text T} X\\beta + (X)^{\\text T}X\\beta^{\\text T}\\beta\\right) = 0 $$\n",
    "\n",
    "$$ - 2y^{\\text T}X  + 2X{^\\text T}X\\hat\\beta = 0 $$\n",
    "\n",
    "$$ \\hat\\beta = (X{^\\text T}X)^{-1}X^{\\text T}y $$\n",
    "\n",
    "\n"
   ]
  },
  {
   "attachments": {},
   "cell_type": "markdown",
   "id": "0cb80952",
   "metadata": {},
   "source": [
    "## T3"
   ]
  },
  {
   "attachments": {},
   "cell_type": "markdown",
   "id": "3e04f6a9",
   "metadata": {},
   "source": [
    "$$y = X\\beta + \\varepsilon$$\n",
    "\n",
    "est equivalent à \n",
    "\n",
    "$$  y_i = (X\\beta)_i +\\varepsilon_i \\ \\ \\ {1\\le i \\le n}$$\n",
    "\n",
    "$$ \\hat\\beta = (X{^\\text T}X)^{-1}X^{\\text T}\\left(X\\beta + \\epsilon\\right)$$\n",
    "\n",
    "On voit que $\\hat\\beta$ c'est une vecteur gaussienne\n",
    "\n",
    "$$ \\mathbb E[\\hat\\beta] = \\mathbb E[(X{^\\text T}X)^{-1}X^{\\text T}\\left(X\\beta + \\epsilon\\right)] $$\n",
    "\n",
    "Si $X$ et $\\beta$ sont fixes $\\mathbb E[X\\beta] = X\\beta$, par construction $E[\\epsilon] = 0$\n",
    "\n",
    "$$ \\mathbb E[\\hat\\beta] = \\underbrace{(X{^\\text T}X)^{-1}X^{\\text T}X}_{Id}\\beta = \\beta$$\n"
   ]
  },
  {
   "attachments": {},
   "cell_type": "markdown",
   "id": "d92c2492",
   "metadata": {},
   "source": [
    "## T4\n",
    "\n",
    "Remarquons que $B = \\sigma^{-2}(\\hat\\beta-\\beta)^TX^TX(\\hat\\beta-\\beta)$ est une variable aléatoire et elle est obtenu en prenant le carré de $A = \\sigma^{-1}X(\\hat\\beta-\\beta)$\n",
    "\n",
    "A est une vecteur gaussien. \n",
    "\n",
    "$$ \\mathbb E[h(B)] = \\int_{-\\infty}^{+\\infty}h(a^2)f_A(a)da$$\n",
    "\n",
    "$$ f_B(b) = \\left(f_A(-\\sqrt a) + f_A(\\sqrt a)\\right)\\frac{1}{2\\sqrt a} \\mathbf 1_{(0, +\\infty)}(a)$$\n",
    "\n",
    "$$ f_B(b) = \\exp\\left(-\\frac{||a||}{2}\\right)\\frac{1}{Jac} \\mathbf 1_{(0, +\\infty)}(a) $$"
   ]
  },
  {
   "attachments": {},
   "cell_type": "markdown",
   "id": "6fec78ab",
   "metadata": {},
   "source": [
    "## T5"
   ]
  },
  {
   "attachments": {},
   "cell_type": "markdown",
   "id": "994055b1",
   "metadata": {},
   "source": []
  }
 ],
 "metadata": {
  "kernelspec": {
   "display_name": "Python 3 (ipykernel)",
   "language": "python",
   "name": "python3"
  },
  "language_info": {
   "codemirror_mode": {
    "name": "ipython",
    "version": 3
   },
   "file_extension": ".py",
   "mimetype": "text/x-python",
   "name": "python",
   "nbconvert_exporter": "python",
   "pygments_lexer": "ipython3",
   "version": "3.10.9"
  }
 },
 "nbformat": 4,
 "nbformat_minor": 5
}
