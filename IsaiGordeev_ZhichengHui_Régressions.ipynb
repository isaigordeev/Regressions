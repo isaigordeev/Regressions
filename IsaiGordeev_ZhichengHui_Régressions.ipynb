{
 "cells": [
  {
   "cell_type": "code",
   "execution_count": 1,
   "id": "21d2e9ff",
   "metadata": {},
   "outputs": [],
   "source": [
    "import random\n",
    "import numpy as np\n",
    "import matplotlib.pyplot as plt"
   ]
  },
  {
   "attachments": {},
   "cell_type": "markdown",
   "id": "1e4d2968",
   "metadata": {},
   "source": [
    "# Régression linéaire "
   ]
  },
  {
   "attachments": {},
   "cell_type": "markdown",
   "id": "87c631b6",
   "metadata": {},
   "source": [
    "## S1"
   ]
  },
  {
   "cell_type": "code",
   "execution_count": 2,
   "id": "054fabfb",
   "metadata": {},
   "outputs": [],
   "source": [
    "def generator_noisy_linear(parameters:tuple, n, sigma):\n",
    "    x = [random.uniform(0,1) for _ in range(n)]\n",
    "    x = np.array(x)\n",
    "    \n",
    "    eps = [random.gauss(0,sigma) for _ in range(n)]\n",
    "    eps = np.array(eps)\n",
    "    \n",
    "    return x, parameters[0] + parameters[1]*x + eps, eps"
   ]
  },
  {
   "cell_type": "code",
   "execution_count": 4,
   "id": "a70e5b01",
   "metadata": {},
   "outputs": [
    {
     "data": {
      "text/plain": [
       "[<matplotlib.lines.Line2D at 0x11dc569b0>]"
      ]
     },
     "execution_count": 4,
     "metadata": {},
     "output_type": "execute_result"
    },
    {
     "data": {
      "image/png": "[encoded data removed]",
      "text/plain": [
       "<Figure size 640x480 with 1 Axes>"
      ]
     },
     "metadata": {},
     "output_type": "display_data"
    }
   ],
   "source": [
    "initial_beta = (2, 1)\n",
    "n = 100\n",
    "sigma = 0.1\n",
    "dataset = generator_noisy_linear(initial_beta, n, sigma)\n",
    "plt.plot(dataset[0], dataset[1], 'x')"
   ]
  },
  {
   "attachments": {},
   "cell_type": "markdown",
   "id": "495c0366",
   "metadata": {},
   "source": [
    "## T1\n",
    "\n",
    "On dispose le modèle linéare\n",
    "$$ y_i = \\beta_0 + \\beta_1x_i+\\varepsilon_i $$\n",
    "\n",
    "Comme $\\varepsilon_i$ est une variable aléatoire gaussienne centrée de variance $\\sigma^2 > 0$, on l'exprime avec la variable $y_i$ et la variable fixe $x_i$\n",
    "\n",
    "$$ \\varepsilon_i = y_i - \\left(\\beta_0 + \\beta_1x_i\\right) \\sim \\mathcal{N}(0, \\sigma^2)$$\n",
    "\n",
    "D'où\n",
    "\n",
    "$$ \\frac{\\varepsilon_i}{\\sigma} = \\frac{y_i - \\left(\\beta_0 + \\beta_1x_i\\right)}{\\sigma} \\sim \\mathcal{N}(0, 1)$$\n",
    "\n",
    "$(\\epsilon_i)_{i \\ge 1}$ étant indépendentes, $(\\frac{\\epsilon_i}{\\sigma})_{i \\ge 1}$ l'est aussi, donc on a\n",
    "\n",
    "$$ \\frac{\\varepsilon}{\\sigma} = \\frac{y - X\\beta}{\\sigma} \\sim \\mathcal{N}(\\pmb{0}, \\pmb{I})$$\n",
    "\n",
    "On obtient ainsi la loi de $y$\n",
    "\n",
    "$$ y \\sim \\mathcal{N}(X\\beta, \\sigma^2\\pmb{I}) $$\n",
    "\n",
    "Finalement\n",
    "\n",
    "$$ p(y) = (2\\pi\\sigma^2)^{-n/2}\\displaystyle\\exp\\left(-\\frac{||y - X\\beta||^2}{2\\sigma^2}\\right)$$"
   ]
  },
  {
   "attachments": {},
   "cell_type": "markdown",
   "id": "7bbc7f1a",
   "metadata": {},
   "source": [
    "## T2\n",
    "\n",
    "L'estimateur du maximum de vraisemblance\n",
    "\n",
    "$$ \\hat\\beta \\in \\arg \\min_{\\beta\\in\\mathbb{R}^2}||y - X\\beta||^2 $$\n",
    "\n",
    "Vérifions d'abord que la fonction $\\beta \\rightarrow ||y - X\\beta||^2$ soit convexe et différentiable sur $\\mathbb{R}^2$:\n",
    "\n",
    "Soit $\\beta_1, \\beta_2 \\in \\mathbb{R}^2$, soit $t \\in [0, 1]$, alors on a selon l'inégalité triangulaire\n",
    "\n",
    "$$||y - X(t\\beta_1 + (1-t)\\beta_2)||^2 \\le (|t| \\cdot ||y - X\\beta_1|| + |1-t| \\cdot ||y - X\\beta_2||)^2 \\le t^2||y - X\\beta_1||^2 + (1-t)^2||y - X\\beta_2||^2$$\n",
    "\n",
    "Or, on a $t^2 \\le t$ et $(1-t)^2 \\le 1-t$ pour tout $t \\in [0, 1]$\n",
    "\n",
    "$$||y - X(t\\beta_1 + (1-t)\\beta_2)||^2 \\le (|t| \\cdot ||y - X\\beta_1|| + |1-t| \\cdot ||y - X\\beta_2||)^2 \\le t||y - X\\beta_1||^2 + (1-t)||y - X\\beta_2||^2$$\n",
    "\n",
    "Donc cette fonction est convexe.\n",
    "\n",
    "Puis, on calcule\n",
    "\n",
    "$$\\frac{\\partial ||y - X\\beta||^2}{\\partial \\beta_1} = -X \n",
    "\\begin{pmatrix}\n",
    "1 \\\\\n",
    "0\n",
    "\\end{pmatrix}\n",
    "\\left(y - X\\beta\\right)^{\\text T} - \n",
    "\\begin{pmatrix}\n",
    "0 & 1\n",
    "\\end{pmatrix}\n",
    "X^{\\text T}(y - X\\beta)$$\n",
    "\n",
    "$$\\frac{\\partial ||y - X\\beta||^2}{\\partial \\beta_2} = -X \n",
    "\\begin{pmatrix}\n",
    "0 \\\\\n",
    "1\n",
    "\\end{pmatrix}\n",
    "\\left(y - X\\beta\\right)^{\\text T} - \n",
    "\\begin{pmatrix}\n",
    "1 & 0\n",
    "\\end{pmatrix}\n",
    "X^{\\text T}(y - X\\beta)$$\n",
    "\n",
    "Les deux dérivées partielles soient continues sur $\\mathbb{R}^2$, on sait que cette fonction est différentiable sur $\\mathbb{R}^2$.\n",
    "\n",
    "Si $\\hat\\beta$ satisfait (4.2), il suffit que\n",
    "\n",
    "$$ \\nabla_{\\beta} ||y - X\\beta||^2 (\\hat\\beta) = 0 $$\n",
    "\n",
    "$$ \\nabla_{\\beta} \\left(y - X\\beta\\right)^{\\text T} (y - X\\beta) (\\hat\\beta) = 0 $$\n",
    "\n",
    "Ainsi\n",
    "\n",
    "$$ \\nabla_{\\beta} \\left(y^{\\text T}y - 2y^{\\text T} X\\beta + X^{\\text T}X\\beta^{\\text T}\\beta\\right) (\\hat\\beta) = 0 $$\n",
    "\n",
    "$$ - 2y^{\\text T}X  + 2X{^\\text T}X\\hat\\beta = 0 $$\n",
    "\n",
    "$$ X{^\\text T}X\\hat\\beta = X^{\\text T}y $$\n",
    "\n",
    "Ce qui implique que ${\\rm Im} (X ^ {\\text T}X) = {\\rm Im} (X ^ {\\text T})$, et l'ensemble des solutions $\\arg \\min_{\\beta\\in\\mathbb{R}^2}||y - X\\beta||^2$ est celui du système linéaire:\n",
    "\n",
    "$$ X{^\\text T}X\\hat\\beta = X^{\\text T}y $$\n",
    "\n",
    "où $\\hat\\beta \\in \\mathbb{R}^2$ est l'inconnu.\n",
    "\n",
    "\n"
   ]
  },
  {
   "attachments": {},
   "cell_type": "markdown",
   "id": "0cb80952",
   "metadata": {},
   "source": [
    "## T3"
   ]
  },
  {
   "attachments": {},
   "cell_type": "markdown",
   "id": "3e04f6a9",
   "metadata": {},
   "source": [
    "On a pout tout $1 \\le i \\le n$,\n",
    "\n",
    "$$ y_i = \\beta_0 + \\beta_1x_i+\\varepsilon_i = (X\\beta)_i +\\varepsilon_i$$\n",
    "\n",
    "Donc, on a bien\n",
    "$$y = X\\beta + \\varepsilon$$\n",
    "\n",
    "Si $X$ et $\\beta$ sont fixés, d'après **T1**, \n",
    "$$ y \\sim \\mathcal{N}(X\\beta, \\sigma^2\\pmb{I}) $$\n",
    "\n",
    "Comme on a $\\hat\\beta = (X{^\\text T}X)^{-1}X^{\\text T}y$ et $y = X\\beta + \\varepsilon$,\n",
    "\n",
    "$$ \\mathbb E[\\hat\\beta] = \\mathbb E[(X{^\\text T}X)^{-1}X^{\\text T}\\left(X\\beta + \\epsilon\\right)] = \\mathbb E[(X{^\\text T}X)^{-1}X^{\\text T}X\\beta] + \\mathbb E[(X{^\\text T}X)^{-1}X^{\\text T}\\epsilon] $$\n",
    "\n",
    "Si $X$ et $\\beta$ sont fixés, $\\mathbb E[X\\beta] = X\\beta$, par construction $E[\\epsilon] = 0$,\n",
    "\n",
    "$$ \\mathbb E[\\hat\\beta] = \\underbrace{(X{^\\text T}X)^{-1}X^{\\text T}X}_{Id}\\beta = \\beta$$\n",
    "\n",
    "On peut dire que l'estimateur $\\hat\\beta$ est non-biaisé."
   ]
  },
  {
   "attachments": {},
   "cell_type": "markdown",
   "id": "2f436579",
   "metadata": {},
   "source": [
    "## T4\n",
    "\n",
    "Remarquons que\n",
    "\n",
    "$$ \\hat \\beta - \\beta = (X{^\\text T}X)^{-1}X^{\\text T}y - \\beta = (X{^\\text T}X)^{-1}X^{\\text T}(X\\beta + \\varepsilon) - \\beta = \\underbrace{(X{^\\text T}X)^{-1}X^{\\text T}X}_{Id}\\beta + (X{^\\text T}X)^{-1}X^{\\text T}\\varepsilon - \\beta = (X{^\\text T}X)^{-1}X^{\\text T}\\varepsilon $$\n",
    "\n",
    "$$ X(\\hat \\beta - \\beta) = X(X^{\\text T}X)^{-1}X^{\\text T}\\varepsilon = X X^{-1} (X^{\\text T})^{-1}X^{\\text T}\\varepsilon = \\varepsilon $$\n",
    "\n",
    "Donc, on a\n",
    "\n",
    "$$\\frac{(\\hat \\beta - \\beta)^{\\text T}X^{\\text T}X(\\hat \\beta - \\beta)}{\\sigma^2} = \\frac{(X(\\hat \\beta - \\beta))^{\\text T}X(\\hat \\beta - \\beta)}{\\sigma^2} = \\frac{\\varepsilon^{\\text T}\\varepsilon}{\\sigma^2} = \\sum_{i=1}^{n} (\\frac{\\varepsilon_i}{\\sigma})^2 $$\n",
    "\n",
    "Pour tout $1 \\le i \\le n$, $\\varepsilon_i \\sim \\mathcal{N}(0,\\sigma^2)$, donc $\\cfrac{\\varepsilon_i}{\\sigma} \\sim \\mathcal{N}(0,1)$\n",
    "\n",
    "On montre que\n",
    "$$\\sigma^{-2}(\\hat \\beta - \\beta)^{\\text T}X^{\\text T}X(\\hat \\beta - \\beta) \\sim \\chi^2(n)$$\n",
    "\n",
    "Puis,\n",
    "\n",
    "$$\\mathbb{P}(\\beta \\in \\mathcal{E}_{\\alpha}) = \\mathbb{P}(\\sigma^{-2}(\\beta - \\hat \\beta)^{\\text T}X^{\\text T}X(\\beta - \\hat \\beta) \\le q_{\\chi^2(n)}(1-\\alpha)) = \\mathbb{P}(\\sigma^{-2}(\\hat \\beta - \\beta)^{\\text T}X^{\\text T}X(\\hat \\beta - \\beta) \\le q_{\\chi^2(n)}(1-\\alpha))$$\n",
    "\n",
    "Selon la définition du quantile, en notant $F_{\\chi^2(n)}$ la fonction de répartition d'une variable aléatoire suivant une loi du $\\rm{Chi}^2$ à $n$ degré de liberté, on a\n",
    "$$q_{\\chi^2(n)}(1-\\alpha) = \\inf{\\{x \\in \\mathbb{R}, F_{\\chi^2(n)}(x) \\ge 1-\\alpha\\}}$$\n",
    "\n",
    "Il est immédiat que\n",
    "$$\\mathbb{P}(\\beta \\in \\mathcal{E}_{\\alpha}) = 1 - \\alpha$$"
   ]
  },
  {
   "attachments": {},
   "cell_type": "markdown",
   "id": "01387f34",
   "metadata": {},
   "source": [
    "## S2"
   ]
  },
  {
   "cell_type": "code",
   "execution_count": null,
   "id": "3d6f650a",
   "metadata": {},
   "outputs": [],
   "source": []
  },
  {
   "attachments": {},
   "cell_type": "markdown",
   "id": "6fec78ab",
   "metadata": {},
   "source": [
    "## T5"
   ]
  },
  {
   "attachments": {},
   "cell_type": "markdown",
   "id": "994055b1",
   "metadata": {},
   "source": [
    "D'après le calcul on a\n",
    "$$(X^n)^{\\text T}X^n = \n",
    "\\begin{pmatrix}\n",
    "n & \\sum_{i=1}^{n} x_i \\\\\n",
    "\\sum_{i=1}^{n} x_i & \\sum_{i=1}^{n} x_{i}^2\n",
    "\\end{pmatrix}\n",
    "$$\n",
    "et\n",
    "$$(X^n)^{\\text T}\\varepsilon^n =\n",
    "\\begin{pmatrix}\n",
    "\\sum_{i=1}^{n} \\varepsilon_i \\\\\n",
    "\\sum_{i=1}^{n} x_i \\varepsilon_{i}\n",
    "\\end{pmatrix}\n",
    "$$\n",
    "\n",
    "On sait que ${\\left(x_i\\right)}_{i>=1}$ est une suite de variables i.i.d. et suivent la loi uniforme sur $\\left(0, 1\\right)$, donc intégrables. On a\n",
    "$$\\mathbb E[x_1] = \\frac{1}{2}$$\n",
    "\n",
    "D'après la loi des grands nombres,\n",
    "$$\\lim_{n \\rightarrow \\infty}{\\frac{1}{n} \\sum_{i=1}^{n} x_i} = \\frac{1}{2} \\; p.s.$$\n",
    "\n",
    "De même, on peut calculer les espérances:\n",
    "$$\\mathbb E[x_1^2] = \\int_{\\mathbb{R}} {x^2} \\mathbb{I}_{[0,1]} \\,{\\rm d}x = \\int_0^1 {x^2} \\,{\\rm d}x = \\frac{1}{3}$$\n",
    "$$\\mathbb E[\\varepsilon_1] = 0$$\n",
    "$$\\mathbb E[x_1 \\varepsilon_1] = \\mathbb E[x_1] \\mathbb E[\\varepsilon_1] = 0$$\n",
    "\n",
    "Puisque ${\\left(x_{i}^2\\right)}_{i>=1}$, ${\\left(\\varepsilon_i\\right)}_{i>=1}$ et ${\\left(x_i \\varepsilon_{i}\\right)}_{i>=1}$ sont aussi i.i.d. et intégrables, appliquons la loi des grands nombres sur chacune de ces suites.\n",
    "$$\\lim_{n \\rightarrow \\infty}{\\frac{1}{n} \\sum_{i=1}^{n} x_{i}^2} = \\frac{1}{3} \\; p.s.$$\n",
    "$$\\lim_{n \\rightarrow \\infty}{\\frac{1}{n} \\sum_{i=1}^{n} \\varepsilon_i} = 0 \\; p.s.$$\n",
    "$$\\lim_{n \\rightarrow \\infty}{\\frac{1}{n} \\sum_{i=1}^{n} x_i \\varepsilon_{i}} = 0 \\; p.s.$$\n",
    "\n",
    "Donc,\n",
    "$$ \\lim_{n \\rightarrow \\infty} {\\frac{1}{n}(X^n)^{\\text T}X^n} =\n",
    "\\begin{pmatrix}\n",
    "1 & \\lim_{n \\rightarrow \\infty}{\\frac{1}{n} \\sum_{i=1}^{n} x_i} \\\\\n",
    "\\lim_{n \\rightarrow \\infty}{\\frac{1}{n} \\sum_{i=1}^{n} x_i} & \\lim_{n \\rightarrow \\infty}{\\frac{1}{n} \\sum_{i=1}^{n} x_{i}^2}\n",
    "\\end{pmatrix}\n",
    "=\n",
    "\\begin{pmatrix}\n",
    "1 & 1 / 2 \\\\\n",
    "1 / 2 & 1 / 3\n",
    "\\end{pmatrix} $$\n",
    "\n",
    "$$ \\lim_{n \\rightarrow \\infty} {\\frac{1}{n}(X^n)^{\\text T}\\varepsilon^n} =\n",
    "\\begin{pmatrix}\n",
    "\\lim_{n \\rightarrow \\infty}{\\frac{1}{n} \\sum_{i=1}^{n} \\varepsilon_i} \\\\\n",
    "\\lim_{n \\rightarrow \\infty}{\\frac{1}{n} \\sum_{i=1}^{n} x_i \\varepsilon_{i}}\n",
    "\\end{pmatrix}\n",
    "= \\pmb{0} $$\n",
    "\n",
    "## TODO"
   ]
  },
  {
   "attachments": {},
   "cell_type": "markdown",
   "id": "f95c56f9",
   "metadata": {},
   "source": [
    "## S3"
   ]
  },
  {
   "attachments": {},
   "cell_type": "markdown",
   "id": "2fae1da1",
   "metadata": {},
   "source": [
    "# Régression non-linéaire "
   ]
  },
  {
   "attachments": {},
   "cell_type": "markdown",
   "id": "1061e8e2",
   "metadata": {},
   "source": [
    "## S4"
   ]
  },
  {
   "cell_type": "code",
   "execution_count": 15,
   "id": "02277d09",
   "metadata": {},
   "outputs": [],
   "source": [
    "def generator_noisy_non_linear(parameters:tuple, n, sigma):\n",
    "    x = [random.uniform(-3,3) for _ in range(n)]\n",
    "    x = np.array(x)\n",
    "    \n",
    "    eps = [random.gauss(0,sigma) for _ in range(n)]\n",
    "    eps = np.array(eps)\n",
    "    \n",
    "    return x, 1 / (1 + np.exp(-parameters[0] - parameters[1] * x)) + eps, eps"
   ]
  },
  {
   "cell_type": "code",
   "execution_count": 16,
   "id": "c926b22e",
   "metadata": {},
   "outputs": [
    {
     "data": {
      "text/plain": [
       "[<matplotlib.lines.Line2D at 0xa8b2e60>]"
      ]
     },
     "execution_count": 16,
     "metadata": {},
     "output_type": "execute_result"
    },
    {
     "data": {
      "image/png": "[encoded data removed]",
      "text/plain": [
       "<Figure size 640x480 with 1 Axes>"
      ]
     },
     "metadata": {},
     "output_type": "display_data"
    }
   ],
   "source": [
    "dataset = generator_noisy_non_linear((0.8, 1.7), 200, 0.1)\n",
    "plt.plot(dataset[0], dataset[1], 'x')"
   ]
  },
  {
   "attachments": {},
   "cell_type": "markdown",
   "id": "bae8871b",
   "metadata": {},
   "source": [
    "## T6"
   ]
  },
  {
   "attachments": {},
   "cell_type": "markdown",
   "id": "de81bd9b",
   "metadata": {},
   "source": [
    "Pout tout $1 <= i <= n$, on a\n",
    "$$y_i = \\frac{1}{1 + \\exp(-\\theta_0 - \\theta_1x_i)} + \\varepsilon_i$$\n",
    "$$\\varepsilon_i = y_i - \\frac{1}{1 + \\exp(-\\theta_0 - \\theta_1x_i)} = y_i - f(\\theta, x_i) \\sim \\mathcal{N}(0, \\sigma^2)$$\n",
    "\n",
    "Quand les données $\\left(x_i, y_i\\right)_{1 \\le i \\le n}$ sont fixées, $y_i - f(\\theta, x_i)$ est une fonction de $\\theta$, on peut définir la vraisemblance comme\n",
    "$$p_i(\\theta) = \\frac{1}{\\sqrt{2\\pi\\sigma^2}}\\exp{\\left(-\\frac{|y_i - f(\\theta, x_i)|^2}{2\\sigma^2}\\right)}$$\n",
    "\n",
    "qui correspond à la probabilité pour une variable aléatoire gaussienne centrée de variance $\\sigma^2 > 0$ d'être égale à $y_i - f(\\theta, x_i)$.\n",
    "\n",
    "Donc la vraisemblance totale vaut\n",
    "\n",
    "$$p(\\theta) = \\prod_{i = 1}^{n} p_i(\\theta) = \\frac{1}{(2\\pi\\sigma^2)^{n / 2}} \\exp{\\left(-\\frac{\\sum_{i = 1}^{n} |y_i - f(\\theta, x_i)|^2}{2\\sigma^2}\\right)}$$\n",
    "\n",
    "C'est une fonction décroissante de $\\sum_{i = 1}^{n} |y_i - f(\\theta, x_i)|^2$, donc on a\n",
    "$$\\arg \\max_{\\theta\\in\\mathbb{R}^2}p(\\theta) = \\arg \\min_{\\theta\\in\\mathbb{R}^2} \\sum_{i = 1}^{n} |y_i - f(\\theta, x_i)|^2 = \\arg \\min_{\\theta\\in\\mathbb{R}^2} \\frac{1}{n}\\sum_{i = 1}^{n} |y_i - f(\\theta, x_i)|^2$$\n",
    "\n",
    "Finalement on obtient\n",
    "$$\\hat \\theta \\in \\arg \\min_{\\theta\\in\\mathbb{R}^2} L(\\theta)$$\n"
   ]
  },
  {
   "attachments": {},
   "cell_type": "markdown",
   "id": "f958afb8",
   "metadata": {},
   "source": [
    "## S5"
   ]
  },
  {
   "cell_type": "code",
   "execution_count": null,
   "id": "da9b576d",
   "metadata": {},
   "outputs": [],
   "source": [
    "def loss_function(parameters:tuple, x, y):\n",
    "    n = x.length\n",
    "    ans = 0\n",
    "    for xi, yi in x, y:\n",
    "        ans += (yi - 1 / (1 + np.exp(-parameters[0] - parameters[1] * xi))) ** 2\n",
    "    return ans / n"
   ]
  },
  {
   "attachments": {},
   "cell_type": "markdown",
   "id": "4d626033",
   "metadata": {},
   "source": [
    "## S6"
   ]
  },
  {
   "attachments": {},
   "cell_type": "markdown",
   "id": "16792550",
   "metadata": {},
   "source": [
    "## T7"
   ]
  },
  {
   "attachments": {},
   "cell_type": "markdown",
   "id": "f5853ed9",
   "metadata": {},
   "source": [
    "- Tirage avec remplacement\n",
    "\n",
    "On note $m_i$ le i-ième indice dans $I_m$ avec $1 \\le i \\le m$.\n",
    "\n",
    "Comme $I_m$ est constitué de $m$ indices tirés de manière indépendente et uniforme dans $\\{1, ..., n\\}$, alors pour tout $1 \\le i \\le m$, $m_i$ suit une loi uniforme sur $\\{1, ..., n\\}$.\n",
    "\n",
    "On obtient\n",
    "$$\\forall i \\in \\mathbb{N}^*, i <= m, \\mathbb E(G_{m_i}) = \\frac{1}{n} \\sum^{n}_{i = 1} G_i = g(\\theta) $$\n",
    "\n",
    "Donc, on a\n",
    "$$ \\mathbb E(g_{m}(\\theta)) = \\mathbb E(\\frac{1}{m} \\sum_{j \\in I_m} G_j) = \\mathbb E(\\frac{1}{m} \\sum_{i = 1}^{m} G_{m_i}) = \\frac{1}{m} \\sum_{i = 1}^{m} \\mathbb E(G_{m_i}) = g(\\theta) $$\n",
    "\n",
    "\n",
    "- Tirage sans remplacement\n",
    "\n",
    "Supposons $m$ donné, pour une tirage avec remplacement, chaque partie de $m$ éléments de l'ensemble $\\{1, ..., n\\}$ a une chance de $1 / \\tbinom{n}{m} $ d'être tirée.\n",
    "\n",
    "Notons $\\mathbb{T}_m$ l'ensemble de tirages possibles, par un dénombrement, on peut déduire que\n",
    "$${\\rm Card} \\left( \\mathbb{T}_m \\right) = \\tbinom{n}{m}$$\n",
    "et\n",
    "$$\\forall k \\in \\mathbb{N}^*, k \\le n, \\sum_{T \\in \\mathbb{T}_m} \\mathbb{I}_{k \\in T} = \\tbinom{n - 1}{m - 1} $$\n",
    "\n",
    "Donc, on a\n",
    "$$ \\mathbb E(g_{m}(\\theta)) = \\frac{1}{\\tbinom{n}{m}} \\sum_{T \\in \\mathbb{T}_m} \\left( \\frac{1}{m} \\sum_{t \\in T} G_t \\right) $$\n",
    "\n",
    "En changeant l'ordre des deux sommes, on obtient\n",
    "$$ \\mathbb E(g_{m}(\\theta)) = \\frac{1}{\\tbinom{n}{m}m} \\sum_{t = 1}^{n} \\sum_{T \\in \\mathbb{T}_m} \\mathbb{I}_{t \\in T}G_{t} = \\frac{1}{\\tbinom{n}{m}m} \\sum_{t = 1}^{n} \\tbinom{n - 1}{m - 1} G_{t} = \\frac{1}{n} \\sum_{t = 1}^{n} G_{t} = g(\\theta) $$\n",
    "\n"
   ]
  },
  {
   "attachments": {},
   "cell_type": "markdown",
   "id": "057644d6",
   "metadata": {},
   "source": [
    "## T8"
   ]
  },
  {
   "attachments": {},
   "cell_type": "markdown",
   "id": "05d26965",
   "metadata": {},
   "source": [
    "On note $g(\\theta)_0, g(\\theta)_1$ les deux éléments du vecteur colonne $g(\\theta)$, puisque l'on a montré dans **T7** que\n",
    "\n",
    "$$\\forall i \\in \\mathbb{N^{*}}, i \\le n, \\mathbb E (G_i) = g(\\theta)$$\n",
    "\n",
    "donc on a\n",
    "\n",
    "$$ \\mathbb E(2(f(\\theta, x_i) - y_i) \\frac{\\partial f(\\theta, x_i)}{\\partial \\theta_0}) = g(\\theta)_0 $$\n",
    "$$ \\mathbb E(2(f(\\theta, x_i) - y_i) \\frac{\\partial f(\\theta, x_i)}{\\partial \\theta_1}) = g(\\theta)_1 $$\n",
    "\n",
    "On écrit $g_{m}(\\theta)$ et $\\Sigma(\\theta)$ sous forme d'une matrice\n",
    "\n",
    "$$ g_{m}(\\theta) = \\frac{1}{m} \\sum_{j \\in I_m} G_j = \\frac{1}{m} \\sum_{j \\in I_m} 2(f(\\theta, x_j) - y_j) \\nabla_{\\theta} f(\\theta, x_j) =\n",
    "\\begin{pmatrix}\n",
    "\\frac{1}{m} \\sum_{j \\in I_m} 2(f(\\theta, x_j) - y_j) \\frac{\\partial f(\\theta, x_j)}{\\partial \\theta_0} \\\\\n",
    "\\frac{1}{m} \\sum_{j \\in I_m} 2(f(\\theta, x_j) - y_j) \\frac{\\partial f(\\theta, x_j)}{\\partial \\theta_1}\n",
    "\\end{pmatrix}\n",
    "$$\n",
    "\n",
    "$$\\Sigma(\\theta) = \\frac{1}{n}\\sum_{i = 1}^{n} \\overline{G}_i\\overline{G}_i^{\\text T} = \\frac{1}{n}\\sum_{i = 1}^{n}\n",
    "\\begin{pmatrix}\n",
    "2(f(\\theta, x_i) - y_i) \\frac{\\partial f(\\theta, x_i)}{\\partial \\theta_0} - g(\\theta)_0 \\\\\n",
    "2(f(\\theta, x_i) - y_i) \\frac{\\partial f(\\theta, x_i)}{\\partial \\theta_1} - g(\\theta)_1\n",
    "\\end{pmatrix}\n",
    "\\begin{pmatrix}\n",
    "2(f(\\theta, x_i) - y_i) \\frac{\\partial f(\\theta, x_i)}{\\partial \\theta_0} - g(\\theta)_0 &\n",
    "2(f(\\theta, x_i) - y_i) \\frac{\\partial f(\\theta, x_i)}{\\partial \\theta_1} - g(\\theta)_1\n",
    "\\end{pmatrix}\n",
    "$$\n",
    "\n",
    "$$\\Sigma(\\theta) =\n",
    "\\begin{pmatrix}\n",
    "\\frac{1}{n} \\sum_{i = 1}^{n} (2(f(\\theta, x_i) - y_i) \\frac{\\partial f(\\theta, x_i)}{\\partial \\theta_0} - g(\\theta)_0)^2 & \\frac{1}{n} \\sum_{i = 1}^{n} (2(f(\\theta, x_i) - y_i) \\frac{\\partial f(\\theta, x_i)}{\\partial \\theta_0} - g(\\theta)_0)(2(f(\\theta, x_i) - y_i) \\frac{\\partial f(\\theta, x_i)}{\\partial \\theta_1} - g(\\theta)_1) \\\\\n",
    "\\frac{1}{n} \\sum_{i = 1}^{n} (2(f(\\theta, x_i) - y_i) \\frac{\\partial f(\\theta, x_i)}{\\partial \\theta_0} - g(\\theta)_0)(2(f(\\theta, x_i) - y_i) \\frac{\\partial f(\\theta, x_i)}{\\partial \\theta_1} - g(\\theta)_1) & \\frac{1}{n} \\sum_{i = 1}^{n} (2(f(\\theta, x_i) - y_i) \\frac{\\partial f(\\theta, x_i)}{\\partial \\theta_1} - g(\\theta)_1)^2\n",
    "\\end{pmatrix}\n",
    "$$\n",
    "\n",
    "On utilise les notations du problème précédent.\n",
    "\n",
    "- Tirage avec remplacement\n",
    "\n",
    "On calcule\n",
    "\n",
    "$$ {\\rm Var} (\\frac{1}{m} \\sum_{j \\in I_m} 2(f(\\theta, x_j) - y_j) \\frac{\\partial f(\\theta, x_j)}{\\partial \\theta_0}) = {\\rm Var} (\\frac{1}{m} \\sum_{i = 1}^{m} 2(f(\\theta, x_{m_i}) - y_{m_i}) \\frac{\\partial f(\\theta, x_{m_i})}{\\partial \\theta_0}) = \\frac{1}{m^2} \\sum_{i = 1}^{m} \\mathbb E ((2(f(\\theta, x_{m_i}) - y_{m_i}) \\frac{\\partial f(\\theta, x_{m_i})}{\\partial \\theta_0} - g(\\theta)_0)^2) $$\n",
    "\n",
    "Pour tout $1 \\le i \\le m$, $m_i$ suit une loi uniforme sur $\\{1, ..., n\\}$, donc\n",
    "\n",
    "$$ \\mathbb E ((2(f(\\theta, x_{m_i}) - y_{m_i}) \\frac{\\partial f(\\theta, x_{m_i})}{\\partial \\theta_0} - g(\\theta)_0)^2) = \\sum^{n}_{i = 1} \\frac{1}{n} (2(f(\\theta, x_i) - y_i) \\frac{\\partial f(\\theta, x_i)}{\\partial \\theta_0} - g(\\theta)_0)^2 $$\n",
    "\n",
    "Donc, on a\n",
    "\n",
    "$$ \\left({\\rm Cov} \\left( g_{m}(\\theta) \\right)\\right)_{1, 1} = {\\rm Var} (\\frac{1}{m} \\sum_{j \\in I_m} 2(f(\\theta, x_j) - y_j) \\frac{\\partial f(\\theta, x_j)}{\\partial \\theta_0}) = \\frac{1}{mn} \\sum^{n}_{i = 1} (2(f(\\theta, x_i) - y_i) \\frac{\\partial f(\\theta, x_i)}{\\partial \\theta_0} - g(\\theta)_0)^2 = \\frac{1}{m} \\left( \\Sigma(\\theta) \\right)_{1, 1} $$\n",
    "\n",
    "Par un raisonnement analogue, on a\n",
    "\n",
    "$$ \\left({\\rm Cov} \\left( g_{m}(\\theta) \\right)\\right)_{1, 2} = \\frac{1}{mn} \\sum^{n}_{i = 1} (2(f(\\theta, x_i) - y_i) \\frac{\\partial f(\\theta, x_i)}{\\partial \\theta_0} - g(\\theta)_0) (2(f(\\theta, x_i) - y_i) \\frac{\\partial f(\\theta, x_i)}{\\partial \\theta_1} - g(\\theta)_1) = \\frac{1}{m} \\left( \\Sigma(\\theta) \\right)_{1, 2} $$\n",
    "\n",
    "$$ \\left({\\rm Cov} \\left( g_{m}(\\theta) \\right)\\right)_{2, 1} = \\frac{1}{mn} \\sum^{n}_{i = 1} (2(f(\\theta, x_i) - y_i) \\frac{\\partial f(\\theta, x_i)}{\\partial \\theta_0} - g(\\theta)_0) (2(f(\\theta, x_i) - y_i) \\frac{\\partial f(\\theta, x_i)}{\\partial \\theta_1} - g(\\theta)_1) = \\frac{1}{m} \\left( \\Sigma(\\theta) \\right)_{2, 1} $$\n",
    "\n",
    "$$ \\left({\\rm Cov} \\left( g_{m}(\\theta) \\right)\\right)_{2, 2} = {\\rm Var} (\\frac{1}{m} \\sum_{j \\in I_m} 2(f(\\theta, x_j) - y_j) \\frac{\\partial f(\\theta, x_j)}{\\partial \\theta_1}) = \\frac{1}{mn} \\sum^{n}_{i = 1} (2(f(\\theta, x_i) - y_i) \\frac{\\partial f(\\theta, x_i)}{\\partial \\theta_1} - g(\\theta)_1)^2 = \\frac{1}{m} \\left( \\Sigma(\\theta) \\right)_{2, 2} $$\n",
    "\n",
    "Finalement, on montre que\n",
    "$$ {\\rm Cov} \\left( g_{m}(\\theta) \\right) = \\frac{1}{m} \\Sigma(\\theta) $$\n",
    "\n",
    "\n",
    "- Tirage sans remplacement\n",
    "\n",
    "\n",
    "## TODO"
   ]
  },
  {
   "attachments": {},
   "cell_type": "markdown",
   "id": "65a12ee1",
   "metadata": {},
   "source": [
    "## S6"
   ]
  }
 ],
 "metadata": {
  "kernelspec": {
   "display_name": "Python 3 (ipykernel)",
   "language": "python",
   "name": "python3"
  },
  "language_info": {
   "codemirror_mode": {
    "name": "ipython",
    "version": 3
   },
   "file_extension": ".py",
   "mimetype": "text/x-python",
   "name": "python",
   "nbconvert_exporter": "python",
   "pygments_lexer": "ipython3",
   "version": "3.10.9"
  }
 },
 "nbformat": 4,
 "nbformat_minor": 5
}
